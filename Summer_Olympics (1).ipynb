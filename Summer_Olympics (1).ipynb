{
  "nbformat": 4,
  "nbformat_minor": 0,
  "metadata": {
    "colab": {
      "name": "Summer Olympics.ipynb",
      "provenance": [],
      "collapsed_sections": []
    },
    "kernelspec": {
      "display_name": "Python 2",
      "language": "python",
      "name": "python2"
    },
    "language_info": {
      "codemirror_mode": {
        "name": "ipython",
        "version": 2
      },
      "file_extension": ".py",
      "mimetype": "text/x-python",
      "name": "python",
      "nbconvert_exporter": "python",
      "pygments_lexer": "ipython2",
      "version": "2.7.16"
    }
  },
  "cells": [
    {
      "cell_type": "markdown",
      "metadata": {
        "id": "3Yzh_YbsHoX3"
      },
      "source": [
        "# Summer Olympics Data Analysis Assignment"
      ]
    },
    {
      "cell_type": "code",
      "metadata": {
        "id": "DXTO-Cx-I2y7"
      },
      "source": [
        "import pandas as pd \n",
        "import numpy as nm\n",
        "import matplotlib.pyplot as plt\n"
      ],
      "execution_count": 40,
      "outputs": []
    },
    {
      "cell_type": "code",
      "metadata": {
        "id": "c4wTwfgiJKWm"
      },
      "source": [
        "dataset= pd.read_csv(\"summer.csv\")"
      ],
      "execution_count": 41,
      "outputs": []
    },
    {
      "cell_type": "code",
      "metadata": {
        "id": "TA-0ImsxLV6Q"
      },
      "source": [
        "dataset.head()"
      ],
      "execution_count": null,
      "outputs": []
    },
    {
      "cell_type": "markdown",
      "metadata": {
        "id": "IdQbVzFZHoX7"
      },
      "source": [
        "### 1. In how many cities Summer Olympics is held so far?"
      ]
    },
    {
      "cell_type": "markdown",
      "metadata": {
        "id": "VV3mNklxLe60"
      },
      "source": [
        "Summer Olympics are held in 22 cities . "
      ]
    },
    {
      "cell_type": "code",
      "metadata": {
        "colab": {
          "base_uri": "https://localhost:8080/"
        },
        "id": "7ezquq3wHoX8",
        "outputId": "0f83eb08-94de-40d4-efb6-aaadf7b55860"
      },
      "source": [
        "dataset[\"City\"].unique()"
      ],
      "execution_count": 5,
      "outputs": [
        {
          "output_type": "execute_result",
          "data": {
            "text/plain": [
              "array(['Athens', 'Paris', 'St Louis', 'London', 'Stockholm', 'Antwerp',\n",
              "       'Amsterdam', 'Los Angeles', 'Berlin', 'Helsinki',\n",
              "       'Melbourne / Stockholm', 'Rome', 'Tokyo', 'Mexico', 'Munich',\n",
              "       'Montreal', 'Moscow', 'Seoul', 'Barcelona', 'Atlanta', 'Sydney',\n",
              "       'Beijing'], dtype=object)"
            ]
          },
          "metadata": {},
          "execution_count": 5
        }
      ]
    },
    {
      "cell_type": "code",
      "metadata": {
        "colab": {
          "base_uri": "https://localhost:8080/"
        },
        "id": "314di4dOMJ6P",
        "outputId": "9467189c-4cb4-4335-f875-8bb2833d00ba"
      },
      "source": [
        "len(dataset[\"City\"].unique())"
      ],
      "execution_count": 6,
      "outputs": [
        {
          "output_type": "execute_result",
          "data": {
            "text/plain": [
              "22"
            ]
          },
          "metadata": {},
          "execution_count": 6
        }
      ]
    },
    {
      "cell_type": "markdown",
      "metadata": {
        "id": "c1GQaraEHoX9"
      },
      "source": [
        "### 2. Which sport is having most number of Gold Medals so far? (Top 5)"
      ]
    },
    {
      "cell_type": "markdown",
      "metadata": {
        "id": "NnmApWme6tT2"
      },
      "source": [
        "Ans:- Aquatics Sport"
      ]
    },
    {
      "cell_type": "code",
      "metadata": {
        "id": "XieFAYL83vJE"
      },
      "source": [
        "goldmedal= dataset[dataset.Medal==\"Gold\"]\n",
        "\n"
      ],
      "execution_count": 59,
      "outputs": []
    },
    {
      "cell_type": "code",
      "metadata": {
        "colab": {
          "base_uri": "https://localhost:8080/"
        },
        "id": "maXzcTjy4Nhd",
        "outputId": "ecdb3a89-c1ad-480e-8ad0-4d406e388f4d"
      },
      "source": [
        "most_gold= goldmedal.Sport.value_counts().head(10)\n",
        "most_gold"
      ],
      "execution_count": 9,
      "outputs": [
        {
          "output_type": "execute_result",
          "data": {
            "text/plain": [
              "Aquatics      1421\n",
              "Athletics     1215\n",
              "Rowing         890\n",
              "Gymnastics     820\n",
              "Fencing        552\n",
              "Football       503\n",
              "Hockey         486\n",
              "Sailing        412\n",
              "Wrestling      391\n",
              "Shooting       384\n",
              "Name: Sport, dtype: int64"
            ]
          },
          "metadata": {},
          "execution_count": 9
        }
      ]
    },
    {
      "cell_type": "code",
      "metadata": {
        "colab": {
          "base_uri": "https://localhost:8080/",
          "height": 401
        },
        "id": "blwlaBgN4Nek",
        "outputId": "d9302c57-762f-42af-dcd1-c3fd9720db71"
      },
      "source": [
        "plt.title(\" Top ten sports is Havig most number of Gold medal \")\n",
        "most_gold.plot.bar(figsize=(10,5))"
      ],
      "execution_count": 10,
      "outputs": [
        {
          "output_type": "execute_result",
          "data": {
            "text/plain": [
              "<matplotlib.axes._subplots.AxesSubplot at 0x7f3fbb2b3b10>"
            ]
          },
          "metadata": {},
          "execution_count": 10
        },
        {
          "output_type": "display_data",
          "data": {
            "image/png": "[encoded data removed]",
            "text/plain": [
              "<Figure size 720x360 with 1 Axes>"
            ]
          },
          "metadata": {
            "needs_background": "light"
          }
        }
      ]
    },
    {
      "cell_type": "markdown",
      "metadata": {
        "id": "w9ptwSQOHoX9"
      },
      "source": [
        "### 3. Which sport is having most number of medals so far? (Top 5)"
      ]
    },
    {
      "cell_type": "markdown",
      "metadata": {
        "id": "UoRtn1cE9PIs"
      },
      "source": [
        "Ans:-  Aquatics "
      ]
    },
    {
      "cell_type": "code",
      "metadata": {
        "id": "1oUZ__gK84PN",
        "outputId": "162b3f6e-c501-49ca-89e4-3bc5d6adc311",
        "colab": {
          "base_uri": "https://localhost:8080/"
        }
      },
      "source": [
        " number_medal= dataset.groupby(\"Sport\").count()[\"Medal\"].head(10)\n",
        " number_medal"
      ],
      "execution_count": 45,
      "outputs": [
        {
          "output_type": "execute_result",
          "data": {
            "text/plain": [
              "Sport\n",
              "Aquatics         4170\n",
              "Archery           329\n",
              "Athletics        3638\n",
              "Badminton         144\n",
              "Baseball          335\n",
              "Basketball       1012\n",
              "Basque Pelota       4\n",
              "Boxing            894\n",
              "Canoe              81\n",
              "Canoe / Kayak    1002\n",
              "Name: Medal, dtype: int64"
            ]
          },
          "metadata": {},
          "execution_count": 45
        }
      ]
    },
    {
      "cell_type": "code",
      "metadata": {
        "id": "ZVDM_1wv7ta9",
        "outputId": "fc824536-ceb3-486a-94fc-604455c3f528",
        "colab": {
          "base_uri": "https://localhost:8080/",
          "height": 429
        }
      },
      "source": [
        "\n",
        "plt.title(\" Most Number of Medal \")\n",
        "number_medal.sort_values(ascending=False).plot.bar(figsize=(10,5))"
      ],
      "execution_count": 46,
      "outputs": [
        {
          "output_type": "execute_result",
          "data": {
            "text/plain": [
              "<matplotlib.axes._subplots.AxesSubplot at 0x7f3fb48e3290>"
            ]
          },
          "metadata": {},
          "execution_count": 46
        },
        {
          "output_type": "display_data",
          "data": {
            "image/png": "[encoded data removed]",
            "text/plain": [
              "<Figure size 720x360 with 1 Axes>"
            ]
          },
          "metadata": {
            "needs_background": "light"
          }
        }
      ]
    },
    {
      "cell_type": "markdown",
      "metadata": {
        "id": "JksN-VtYHoX-"
      },
      "source": [
        "### 4. Which player has won most number of medals? (Top 5)"
      ]
    },
    {
      "cell_type": "code",
      "metadata": {
        "id": "SIseJX1M9Xnl",
        "outputId": "e08416d4-6f8d-4d64-fb17-d3645dd27c1b",
        "colab": {
          "base_uri": "https://localhost:8080/",
          "height": 204
        }
      },
      "source": [
        "data=[]\n",
        "for player in dataset['Athlete'].unique():\n",
        "    data.append([player,len(dataset[dataset['Athlete']==player])])\n",
        "\n",
        "data=pd.DataFrame(data,columns=['Athlete','freq'])\n",
        "data=data.sort_values(by='freq',ascending=False).head()\n",
        "data\n"
      ],
      "execution_count": 51,
      "outputs": [
        {
          "output_type": "execute_result",
          "data": {
            "text/plain": [
              "                    Athlete  freq\n",
              "18640       PHELPS, Michael    22\n",
              "7197       LATYNINA, Larisa    18\n",
              "9948     ANDRIANOV, Nikolay    15\n",
              "6591           ONO, Takashi    13\n",
              "5103   MANGIAROTTI, Edoardo    13"
            ],
            "text/html": [
              "<div>\n",
              "<style scoped>\n",
              "    .dataframe tbody tr th:only-of-type {\n",
              "        vertical-align: middle;\n",
              "    }\n",
              "\n",
              "    .dataframe tbody tr th {\n",
              "        vertical-align: top;\n",
              "    }\n",
              "\n",
              "    .dataframe thead th {\n",
              "        text-align: right;\n",
              "    }\n",
              "</style>\n",
              "<table border=\"1\" class=\"dataframe\">\n",
              "  <thead>\n",
              "    <tr style=\"text-align: right;\">\n",
              "      <th></th>\n",
              "      <th>Athlete</th>\n",
              "      <th>freq</th>\n",
              "    </tr>\n",
              "  </thead>\n",
              "  <tbody>\n",
              "    <tr>\n",
              "      <th>18640</th>\n",
              "      <td>PHELPS, Michael</td>\n",
              "      <td>22</td>\n",
              "    </tr>\n",
              "    <tr>\n",
              "      <th>7197</th>\n",
              "      <td>LATYNINA, Larisa</td>\n",
              "      <td>18</td>\n",
              "    </tr>\n",
              "    <tr>\n",
              "      <th>9948</th>\n",
              "      <td>ANDRIANOV, Nikolay</td>\n",
              "      <td>15</td>\n",
              "    </tr>\n",
              "    <tr>\n",
              "      <th>6591</th>\n",
              "      <td>ONO, Takashi</td>\n",
              "      <td>13</td>\n",
              "    </tr>\n",
              "    <tr>\n",
              "      <th>5103</th>\n",
              "      <td>MANGIAROTTI, Edoardo</td>\n",
              "      <td>13</td>\n",
              "    </tr>\n",
              "  </tbody>\n",
              "</table>\n",
              "</div>"
            ]
          },
          "metadata": {},
          "execution_count": 51
        }
      ]
    },
    {
      "cell_type": "code",
      "metadata": {
        "id": "qzvKxgBq-98M",
        "outputId": "13a8ca91-e173-4957-9c18-84d3325b1ad0",
        "colab": {
          "base_uri": "https://localhost:8080/",
          "height": 463
        }
      },
      "source": [
        "data.plot(x='Athlete',y=\"freq\",kind='bar',figsize=(10,5))"
      ],
      "execution_count": 52,
      "outputs": [
        {
          "output_type": "execute_result",
          "data": {
            "text/plain": [
              "<matplotlib.axes._subplots.AxesSubplot at 0x7f3fb470b490>"
            ]
          },
          "metadata": {},
          "execution_count": 52
        },
        {
          "output_type": "display_data",
          "data": {
            "image/png": "[encoded data removed]",
            "text/plain": [
              "<Figure size 720x360 with 1 Axes>"
            ]
          },
          "metadata": {
            "needs_background": "light"
          }
        }
      ]
    },
    {
      "cell_type": "markdown",
      "metadata": {
        "id": "qZKMpbGEHoX_"
      },
      "source": [
        "### 5. Which player has won most number Gold Medals of medals? (Top 5)"
      ]
    },
    {
      "cell_type": "markdown",
      "metadata": {
        "id": "XmYnfBLhCweM"
      },
      "source": [
        "Ans:- Phelps Michael"
      ]
    },
    {
      "cell_type": "code",
      "metadata": {
        "colab": {
          "base_uri": "https://localhost:8080/"
        },
        "id": "3CqyTcTFCmPS",
        "outputId": "bfb2c783-6437-4759-91bd-b09d3e91898c"
      },
      "source": [
        "most_gold= goldmedal.Athlete.value_counts().head(10)\n",
        "most_gold"
      ],
      "execution_count": null,
      "outputs": [
        {
          "output_type": "execute_result",
          "data": {
            "text/plain": [
              "PHELPS, Michael     18\n",
              "LEWIS, Carl          9\n",
              "NURMI, Paavo         9\n",
              "LATYNINA, Larisa     9\n",
              "SPITZ, Mark          9\n",
              "EWRY, Ray            8\n",
              "BIONDI, Matthew      8\n",
              "FISCHER, Birgit      8\n",
              "KATO, Sawao          8\n",
              "THOMPSON, Jenny      8\n",
              "Name: Athlete, dtype: int64"
            ]
          },
          "metadata": {},
          "execution_count": 94
        }
      ]
    },
    {
      "cell_type": "code",
      "metadata": {
        "colab": {
          "base_uri": "https://localhost:8080/",
          "height": 354
        },
        "id": "wPNfi5PGCpyM",
        "outputId": "3c5384d4-d8c3-4400-f58d-e3cdcf743126"
      },
      "source": [
        "plt.figure(figsize=(16,5))\n",
        "plt.title(\"Top 10 Players have won  the most Gold medals \")\n",
        "most_gold.plot.line()"
      ],
      "execution_count": null,
      "outputs": [
        {
          "output_type": "execute_result",
          "data": {
            "text/plain": [
              "<matplotlib.axes._subplots.AxesSubplot at 0x7f5ce4673b50>"
            ]
          },
          "metadata": {},
          "execution_count": 95
        },
        {
          "output_type": "display_data",
          "data": {
            "image/png": "[encoded data removed]",
            "text/plain": [
              "<Figure size 1152x360 with 1 Axes>"
            ]
          },
          "metadata": {
            "needs_background": "light"
          }
        }
      ]
    },
    {
      "cell_type": "markdown",
      "metadata": {
        "id": "kQ8LI7-IHoX_"
      },
      "source": [
        "### 6. In which year India won first Gold Medal in Summer Olympics?"
      ]
    },
    {
      "cell_type": "markdown",
      "metadata": {
        "id": "_-eMeSr4tC3F"
      },
      "source": [
        "Ans-:  In 1928 India won the first Gold medal in Simmer Olympics. "
      ]
    },
    {
      "cell_type": "code",
      "metadata": {
        "id": "vAxkyafrHoYA",
        "colab": {
          "base_uri": "https://localhost:8080/",
          "height": 1000
        },
        "outputId": "cd1643bc-d707-43e1-b042-ee208b739272"
      },
      "source": [
        "dataset.query('Country == \"IND\"')"
      ],
      "execution_count": null,
      "outputs": [
        {
          "output_type": "execute_result",
          "data": {
            "text/plain": [
              "       Year         City          Sport           Discipline  \\\n",
              "241    1900        Paris      Athletics            Athletics   \n",
              "244    1900        Paris      Athletics            Athletics   \n",
              "5512   1928    Amsterdam         Hockey               Hockey   \n",
              "5513   1928    Amsterdam         Hockey               Hockey   \n",
              "5514   1928    Amsterdam         Hockey               Hockey   \n",
              "5515   1928    Amsterdam         Hockey               Hockey   \n",
              "5516   1928    Amsterdam         Hockey               Hockey   \n",
              "5517   1928    Amsterdam         Hockey               Hockey   \n",
              "5518   1928    Amsterdam         Hockey               Hockey   \n",
              "5519   1928    Amsterdam         Hockey               Hockey   \n",
              "5520   1928    Amsterdam         Hockey               Hockey   \n",
              "5521   1928    Amsterdam         Hockey               Hockey   \n",
              "5522   1928    Amsterdam         Hockey               Hockey   \n",
              "5523   1928    Amsterdam         Hockey               Hockey   \n",
              "5524   1928    Amsterdam         Hockey               Hockey   \n",
              "5525   1928    Amsterdam         Hockey               Hockey   \n",
              "5526   1928    Amsterdam         Hockey               Hockey   \n",
              "6122   1932  Los Angeles         Hockey               Hockey   \n",
              "6123   1932  Los Angeles         Hockey               Hockey   \n",
              "6124   1932  Los Angeles         Hockey               Hockey   \n",
              "6125   1932  Los Angeles         Hockey               Hockey   \n",
              "6126   1932  Los Angeles         Hockey               Hockey   \n",
              "6127   1932  Los Angeles         Hockey               Hockey   \n",
              "6128   1932  Los Angeles         Hockey               Hockey   \n",
              "6129   1932  Los Angeles         Hockey               Hockey   \n",
              "6130   1932  Los Angeles         Hockey               Hockey   \n",
              "6131   1932  Los Angeles         Hockey               Hockey   \n",
              "6132   1932  Los Angeles         Hockey               Hockey   \n",
              "6962   1936       Berlin         Hockey               Hockey   \n",
              "6963   1936       Berlin         Hockey               Hockey   \n",
              "...     ...          ...            ...                  ...   \n",
              "13531  1972       Munich         Hockey               Hockey   \n",
              "13532  1972       Munich         Hockey               Hockey   \n",
              "16087  1980       Moscow         Hockey               Hockey   \n",
              "16088  1980       Moscow         Hockey               Hockey   \n",
              "16089  1980       Moscow         Hockey               Hockey   \n",
              "16090  1980       Moscow         Hockey               Hockey   \n",
              "16091  1980       Moscow         Hockey               Hockey   \n",
              "16092  1980       Moscow         Hockey               Hockey   \n",
              "16093  1980       Moscow         Hockey               Hockey   \n",
              "16094  1980       Moscow         Hockey               Hockey   \n",
              "16095  1980       Moscow         Hockey               Hockey   \n",
              "16096  1980       Moscow         Hockey               Hockey   \n",
              "16097  1980       Moscow         Hockey               Hockey   \n",
              "16098  1980       Moscow         Hockey               Hockey   \n",
              "16099  1980       Moscow         Hockey               Hockey   \n",
              "16100  1980       Moscow         Hockey               Hockey   \n",
              "16101  1980       Moscow         Hockey               Hockey   \n",
              "16102  1980       Moscow         Hockey               Hockey   \n",
              "22981  1996      Atlanta         Tennis               Tennis   \n",
              "25113  2000       Sydney  Weightlifting        Weightlifting   \n",
              "26870  2004       Athens       Shooting             Shooting   \n",
              "27922  2008      Beijing         Boxing               Boxing   \n",
              "28856  2008      Beijing       Shooting             Shooting   \n",
              "29165  2008      Beijing      Wrestling      Wrestling Free.   \n",
              "29795  2012       London      Badminton            Badminton   \n",
              "29879  2012       London         Boxing               Boxing   \n",
              "30841  2012       London       Shooting             Shooting   \n",
              "30849  2012       London       Shooting             Shooting   \n",
              "31111  2012       London      Wrestling  Wrestling Freestyle   \n",
              "31118  2012       London      Wrestling  Wrestling Freestyle   \n",
              "\n",
              "                            Athlete Country Gender                      Event  \\\n",
              "241               PRITCHARD, Norman     IND    Men                       200M   \n",
              "244               PRITCHARD, Norman     IND    Men               200M Hurdles   \n",
              "5512           ALLEN, Richard James     IND    Men                     Hockey   \n",
              "5513                    CHAND, Dyan     IND    Men                     Hockey   \n",
              "5514            GATELEY, Maurice A.     IND    Men                     Hockey   \n",
              "5515                    GILL, K. S.     IND    Men                     Hockey   \n",
              "5516   GOODSIR-CULLEN, William John     IND    Men                     Hockey   \n",
              "5517        HAMMOND, Leslie Charles     IND    Men                     Hockey   \n",
              "5518             KHAN, Feroze Uddin     IND    Men                     Hockey   \n",
              "5519            MARTHINS, George E.     IND    Men                     Hockey   \n",
              "5520                 NORRIS, Rex A.     IND    Men                     Hockey   \n",
              "5521          PINNIGER, Broome Eric     IND    Men                     Hockey   \n",
              "5522             ROCQUE, Michael E.     IND    Men                     Hockey   \n",
              "5523            SEAMAN, Frederic S.     IND    Men                     Hockey   \n",
              "5524                   SHAUKAT, Ali     IND    Men                     Hockey   \n",
              "5525                  SINGH, Jaipal     IND    Men                     Hockey   \n",
              "5526           YUSUF, Sayed Mohamed     IND    Men                     Hockey   \n",
              "6122              BAIS, Dhyan Chand     IND    Men                     Hockey   \n",
              "6123               BAIS, Roop Singh     IND    Men                     Hockey   \n",
              "6124              BOKHARI, Lal Shah     IND    Men                     Hockey   \n",
              "6125             CARR, Richard John     IND    Men                     Hockey   \n",
              "6126        HAMMOND, Leslie Charles     IND    Men                     Hockey   \n",
              "6127           HIND, Arthur Charles     IND    Men                     Hockey   \n",
              "6128          JAFFAR, Sayed Mohomed     IND    Men                     Hockey   \n",
              "6129         MINHAS, Masud Ali Khan     IND    Men                     Hockey   \n",
              "6130          PINNIGER, Broome Eric     IND    Men                     Hockey   \n",
              "6131           SINGH KULLAR, Gurmit     IND    Men                     Hockey   \n",
              "6132        TAPSELL, Carlyle Carrol     IND    Men                     Hockey   \n",
              "6962           ALLEN, Richard James     IND    Men                     Hockey   \n",
              "6963              BAIS, Dhyan Chand     IND    Men                     Hockey   \n",
              "...                             ...     ...    ...                        ...   \n",
              "13531               SINGH, Mukhbain     IND    Men                     Hockey   \n",
              "13532               SINGH, Virinder     IND    Men                     Hockey   \n",
              "16087              ALLAN, Schofield     IND    Men                     Hockey   \n",
              "16088           AMARJIT RANA, Singh     IND    Men                     Hockey   \n",
              "16089            BASKARAN, Baskaran     IND    Men                     Hockey   \n",
              "16090              CHETTRI, Chettri     IND    Men                     Hockey   \n",
              "16091              DEAVINDER, Singh     IND    Men                     Hockey   \n",
              "16092             FERNANDES, Mervyn     IND    Men                     Hockey   \n",
              "16093                GURMAIL, Singh     IND    Men                     Hockey   \n",
              "16094      KAUSHIK, Maharaj Krishon     IND    Men                     Hockey   \n",
              "16095              KUMAR, Charanjit     IND    Men                     Hockey   \n",
              "16096            MANEYPANDA, Somaya     IND    Men                     Hockey   \n",
              "16097              MOHAMMAD, Shahid     IND    Men                     Hockey   \n",
              "16098                  SINGH, Singh     IND    Men                     Hockey   \n",
              "16099                  SINGH, Singh     IND    Men                     Hockey   \n",
              "16100               SURINDER, Singh     IND    Men                     Hockey   \n",
              "16101           SYLVANUS, Dung Dung     IND    Men                     Hockey   \n",
              "16102                  ZAFAR, Zafar     IND    Men                     Hockey   \n",
              "22981                 PAES, Leander     IND    Men                    Singles   \n",
              "25113            MALLESWARI, Karnam     IND  Women                       69KG   \n",
              "26870      RATHORE, Rajyavardhan S.     IND    Men  Double Trap (150 Targets)   \n",
              "27922               KUMAR, Vijender     IND    Men                 69 - 75 KG   \n",
              "28856               BINDRA, Abhinav     IND    Men   10M Air Rifle (60 Shots)   \n",
              "29165                 KUMAR, Sushil     IND    Men                  60 - 66KG   \n",
              "29795                 NEHWAL, Saina     IND  Women                    Singles   \n",
              "29879                     KOM, Mary     IND  Women                      51 KG   \n",
              "30841                 NARANG, Gagan     IND    Men              10M Air Rifle   \n",
              "30849                  KUMAR, Vijay     IND    Men           25M Rapid Pistol   \n",
              "31111               DUTT, Yogeshwar     IND    Men                   Wf 60 KG   \n",
              "31118                 KUMAR, Sushil     IND    Men                   Wf 66 KG   \n",
              "\n",
              "        Medal  \n",
              "241    Silver  \n",
              "244    Silver  \n",
              "5512     Gold  \n",
              "5513     Gold  \n",
              "5514     Gold  \n",
              "5515     Gold  \n",
              "5516     Gold  \n",
              "5517     Gold  \n",
              "5518     Gold  \n",
              "5519     Gold  \n",
              "5520     Gold  \n",
              "5521     Gold  \n",
              "5522     Gold  \n",
              "5523     Gold  \n",
              "5524     Gold  \n",
              "5525     Gold  \n",
              "5526     Gold  \n",
              "6122     Gold  \n",
              "6123     Gold  \n",
              "6124     Gold  \n",
              "6125     Gold  \n",
              "6126     Gold  \n",
              "6127     Gold  \n",
              "6128     Gold  \n",
              "6129     Gold  \n",
              "6130     Gold  \n",
              "6131     Gold  \n",
              "6132     Gold  \n",
              "6962     Gold  \n",
              "6963     Gold  \n",
              "...       ...  \n",
              "13531  Bronze  \n",
              "13532  Bronze  \n",
              "16087    Gold  \n",
              "16088    Gold  \n",
              "16089    Gold  \n",
              "16090    Gold  \n",
              "16091    Gold  \n",
              "16092    Gold  \n",
              "16093    Gold  \n",
              "16094    Gold  \n",
              "16095    Gold  \n",
              "16096    Gold  \n",
              "16097    Gold  \n",
              "16098    Gold  \n",
              "16099    Gold  \n",
              "16100    Gold  \n",
              "16101    Gold  \n",
              "16102    Gold  \n",
              "22981  Bronze  \n",
              "25113  Bronze  \n",
              "26870  Silver  \n",
              "27922  Bronze  \n",
              "28856    Gold  \n",
              "29165  Bronze  \n",
              "29795  Bronze  \n",
              "29879  Bronze  \n",
              "30841  Bronze  \n",
              "30849  Silver  \n",
              "31111  Bronze  \n",
              "31118  Silver  \n",
              "\n",
              "[184 rows x 9 columns]"
            ],
            "text/html": [
              "<div>\n",
              "<style scoped>\n",
              "    .dataframe tbody tr th:only-of-type {\n",
              "        vertical-align: middle;\n",
              "    }\n",
              "\n",
              "    .dataframe tbody tr th {\n",
              "        vertical-align: top;\n",
              "    }\n",
              "\n",
              "    .dataframe thead th {\n",
              "        text-align: right;\n",
              "    }\n",
              "</style>\n",
              "<table border=\"1\" class=\"dataframe\">\n",
              "  <thead>\n",
              "    <tr style=\"text-align: right;\">\n",
              "      <th></th>\n",
              "      <th>Year</th>\n",
              "      <th>City</th>\n",
              "      <th>Sport</th>\n",
              "      <th>Discipline</th>\n",
              "      <th>Athlete</th>\n",
              "      <th>Country</th>\n",
              "      <th>Gender</th>\n",
              "      <th>Event</th>\n",
              "      <th>Medal</th>\n",
              "    </tr>\n",
              "  </thead>\n",
              "  <tbody>\n",
              "    <tr>\n",
              "      <th>241</th>\n",
              "      <td>1900</td>\n",
              "      <td>Paris</td>\n",
              "      <td>Athletics</td>\n",
              "      <td>Athletics</td>\n",
              "      <td>PRITCHARD, Norman</td>\n",
              "      <td>IND</td>\n",
              "      <td>Men</td>\n",
              "      <td>200M</td>\n",
              "      <td>Silver</td>\n",
              "    </tr>\n",
              "    <tr>\n",
              "      <th>244</th>\n",
              "      <td>1900</td>\n",
              "      <td>Paris</td>\n",
              "      <td>Athletics</td>\n",
              "      <td>Athletics</td>\n",
              "      <td>PRITCHARD, Norman</td>\n",
              "      <td>IND</td>\n",
              "      <td>Men</td>\n",
              "      <td>200M Hurdles</td>\n",
              "      <td>Silver</td>\n",
              "    </tr>\n",
              "    <tr>\n",
              "      <th>5512</th>\n",
              "      <td>1928</td>\n",
              "      <td>Amsterdam</td>\n",
              "      <td>Hockey</td>\n",
              "      <td>Hockey</td>\n",
              "      <td>ALLEN, Richard James</td>\n",
              "      <td>IND</td>\n",
              "      <td>Men</td>\n",
              "      <td>Hockey</td>\n",
              "      <td>Gold</td>\n",
              "    </tr>\n",
              "    <tr>\n",
              "      <th>5513</th>\n",
              "      <td>1928</td>\n",
              "      <td>Amsterdam</td>\n",
              "      <td>Hockey</td>\n",
              "      <td>Hockey</td>\n",
              "      <td>CHAND, Dyan</td>\n",
              "      <td>IND</td>\n",
              "      <td>Men</td>\n",
              "      <td>Hockey</td>\n",
              "      <td>Gold</td>\n",
              "    </tr>\n",
              "    <tr>\n",
              "      <th>5514</th>\n",
              "      <td>1928</td>\n",
              "      <td>Amsterdam</td>\n",
              "      <td>Hockey</td>\n",
              "      <td>Hockey</td>\n",
              "      <td>GATELEY, Maurice A.</td>\n",
              "      <td>IND</td>\n",
              "      <td>Men</td>\n",
              "      <td>Hockey</td>\n",
              "      <td>Gold</td>\n",
              "    </tr>\n",
              "    <tr>\n",
              "      <th>5515</th>\n",
              "      <td>1928</td>\n",
              "      <td>Amsterdam</td>\n",
              "      <td>Hockey</td>\n",
              "      <td>Hockey</td>\n",
              "      <td>GILL, K. S.</td>\n",
              "      <td>IND</td>\n",
              "      <td>Men</td>\n",
              "      <td>Hockey</td>\n",
              "      <td>Gold</td>\n",
              "    </tr>\n",
              "    <tr>\n",
              "      <th>5516</th>\n",
              "      <td>1928</td>\n",
              "      <td>Amsterdam</td>\n",
              "      <td>Hockey</td>\n",
              "      <td>Hockey</td>\n",
              "      <td>GOODSIR-CULLEN, William John</td>\n",
              "      <td>IND</td>\n",
              "      <td>Men</td>\n",
              "      <td>Hockey</td>\n",
              "      <td>Gold</td>\n",
              "    </tr>\n",
              "    <tr>\n",
              "      <th>5517</th>\n",
              "      <td>1928</td>\n",
              "      <td>Amsterdam</td>\n",
              "      <td>Hockey</td>\n",
              "      <td>Hockey</td>\n",
              "      <td>HAMMOND, Leslie Charles</td>\n",
              "      <td>IND</td>\n",
              "      <td>Men</td>\n",
              "      <td>Hockey</td>\n",
              "      <td>Gold</td>\n",
              "    </tr>\n",
              "    <tr>\n",
              "      <th>5518</th>\n",
              "      <td>1928</td>\n",
              "      <td>Amsterdam</td>\n",
              "      <td>Hockey</td>\n",
              "      <td>Hockey</td>\n",
              "      <td>KHAN, Feroze Uddin</td>\n",
              "      <td>IND</td>\n",
              "      <td>Men</td>\n",
              "      <td>Hockey</td>\n",
              "      <td>Gold</td>\n",
              "    </tr>\n",
              "    <tr>\n",
              "      <th>5519</th>\n",
              "      <td>1928</td>\n",
              "      <td>Amsterdam</td>\n",
              "      <td>Hockey</td>\n",
              "      <td>Hockey</td>\n",
              "      <td>MARTHINS, George E.</td>\n",
              "      <td>IND</td>\n",
              "      <td>Men</td>\n",
              "      <td>Hockey</td>\n",
              "      <td>Gold</td>\n",
              "    </tr>\n",
              "    <tr>\n",
              "      <th>5520</th>\n",
              "      <td>1928</td>\n",
              "      <td>Amsterdam</td>\n",
              "      <td>Hockey</td>\n",
              "      <td>Hockey</td>\n",
              "      <td>NORRIS, Rex A.</td>\n",
              "      <td>IND</td>\n",
              "      <td>Men</td>\n",
              "      <td>Hockey</td>\n",
              "      <td>Gold</td>\n",
              "    </tr>\n",
              "    <tr>\n",
              "      <th>5521</th>\n",
              "      <td>1928</td>\n",
              "      <td>Amsterdam</td>\n",
              "      <td>Hockey</td>\n",
              "      <td>Hockey</td>\n",
              "      <td>PINNIGER, Broome Eric</td>\n",
              "      <td>IND</td>\n",
              "      <td>Men</td>\n",
              "      <td>Hockey</td>\n",
              "      <td>Gold</td>\n",
              "    </tr>\n",
              "    <tr>\n",
              "      <th>5522</th>\n",
              "      <td>1928</td>\n",
              "      <td>Amsterdam</td>\n",
              "      <td>Hockey</td>\n",
              "      <td>Hockey</td>\n",
              "      <td>ROCQUE, Michael E.</td>\n",
              "      <td>IND</td>\n",
              "      <td>Men</td>\n",
              "      <td>Hockey</td>\n",
              "      <td>Gold</td>\n",
              "    </tr>\n",
              "    <tr>\n",
              "      <th>5523</th>\n",
              "      <td>1928</td>\n",
              "      <td>Amsterdam</td>\n",
              "      <td>Hockey</td>\n",
              "      <td>Hockey</td>\n",
              "      <td>SEAMAN, Frederic S.</td>\n",
              "      <td>IND</td>\n",
              "      <td>Men</td>\n",
              "      <td>Hockey</td>\n",
              "      <td>Gold</td>\n",
              "    </tr>\n",
              "    <tr>\n",
              "      <th>5524</th>\n",
              "      <td>1928</td>\n",
              "      <td>Amsterdam</td>\n",
              "      <td>Hockey</td>\n",
              "      <td>Hockey</td>\n",
              "      <td>SHAUKAT, Ali</td>\n",
              "      <td>IND</td>\n",
              "      <td>Men</td>\n",
              "      <td>Hockey</td>\n",
              "      <td>Gold</td>\n",
              "    </tr>\n",
              "    <tr>\n",
              "      <th>5525</th>\n",
              "      <td>1928</td>\n",
              "      <td>Amsterdam</td>\n",
              "      <td>Hockey</td>\n",
              "      <td>Hockey</td>\n",
              "      <td>SINGH, Jaipal</td>\n",
              "      <td>IND</td>\n",
              "      <td>Men</td>\n",
              "      <td>Hockey</td>\n",
              "      <td>Gold</td>\n",
              "    </tr>\n",
              "    <tr>\n",
              "      <th>5526</th>\n",
              "      <td>1928</td>\n",
              "      <td>Amsterdam</td>\n",
              "      <td>Hockey</td>\n",
              "      <td>Hockey</td>\n",
              "      <td>YUSUF, Sayed Mohamed</td>\n",
              "      <td>IND</td>\n",
              "      <td>Men</td>\n",
              "      <td>Hockey</td>\n",
              "      <td>Gold</td>\n",
              "    </tr>\n",
              "    <tr>\n",
              "      <th>6122</th>\n",
              "      <td>1932</td>\n",
              "      <td>Los Angeles</td>\n",
              "      <td>Hockey</td>\n",
              "      <td>Hockey</td>\n",
              "      <td>BAIS, Dhyan Chand</td>\n",
              "      <td>IND</td>\n",
              "      <td>Men</td>\n",
              "      <td>Hockey</td>\n",
              "      <td>Gold</td>\n",
              "    </tr>\n",
              "    <tr>\n",
              "      <th>6123</th>\n",
              "      <td>1932</td>\n",
              "      <td>Los Angeles</td>\n",
              "      <td>Hockey</td>\n",
              "      <td>Hockey</td>\n",
              "      <td>BAIS, Roop Singh</td>\n",
              "      <td>IND</td>\n",
              "      <td>Men</td>\n",
              "      <td>Hockey</td>\n",
              "      <td>Gold</td>\n",
              "    </tr>\n",
              "    <tr>\n",
              "      <th>6124</th>\n",
              "      <td>1932</td>\n",
              "      <td>Los Angeles</td>\n",
              "      <td>Hockey</td>\n",
              "      <td>Hockey</td>\n",
              "      <td>BOKHARI, Lal Shah</td>\n",
              "      <td>IND</td>\n",
              "      <td>Men</td>\n",
              "      <td>Hockey</td>\n",
              "      <td>Gold</td>\n",
              "    </tr>\n",
              "    <tr>\n",
              "      <th>6125</th>\n",
              "      <td>1932</td>\n",
              "      <td>Los Angeles</td>\n",
              "      <td>Hockey</td>\n",
              "      <td>Hockey</td>\n",
              "      <td>CARR, Richard John</td>\n",
              "      <td>IND</td>\n",
              "      <td>Men</td>\n",
              "      <td>Hockey</td>\n",
              "      <td>Gold</td>\n",
              "    </tr>\n",
              "    <tr>\n",
              "      <th>6126</th>\n",
              "      <td>1932</td>\n",
              "      <td>Los Angeles</td>\n",
              "      <td>Hockey</td>\n",
              "      <td>Hockey</td>\n",
              "      <td>HAMMOND, Leslie Charles</td>\n",
              "      <td>IND</td>\n",
              "      <td>Men</td>\n",
              "      <td>Hockey</td>\n",
              "      <td>Gold</td>\n",
              "    </tr>\n",
              "    <tr>\n",
              "      <th>6127</th>\n",
              "      <td>1932</td>\n",
              "      <td>Los Angeles</td>\n",
              "      <td>Hockey</td>\n",
              "      <td>Hockey</td>\n",
              "      <td>HIND, Arthur Charles</td>\n",
              "      <td>IND</td>\n",
              "      <td>Men</td>\n",
              "      <td>Hockey</td>\n",
              "      <td>Gold</td>\n",
              "    </tr>\n",
              "    <tr>\n",
              "      <th>6128</th>\n",
              "      <td>1932</td>\n",
              "      <td>Los Angeles</td>\n",
              "      <td>Hockey</td>\n",
              "      <td>Hockey</td>\n",
              "      <td>JAFFAR, Sayed Mohomed</td>\n",
              "      <td>IND</td>\n",
              "      <td>Men</td>\n",
              "      <td>Hockey</td>\n",
              "      <td>Gold</td>\n",
              "    </tr>\n",
              "    <tr>\n",
              "      <th>6129</th>\n",
              "      <td>1932</td>\n",
              "      <td>Los Angeles</td>\n",
              "      <td>Hockey</td>\n",
              "      <td>Hockey</td>\n",
              "      <td>MINHAS, Masud Ali Khan</td>\n",
              "      <td>IND</td>\n",
              "      <td>Men</td>\n",
              "      <td>Hockey</td>\n",
              "      <td>Gold</td>\n",
              "    </tr>\n",
              "    <tr>\n",
              "      <th>6130</th>\n",
              "      <td>1932</td>\n",
              "      <td>Los Angeles</td>\n",
              "      <td>Hockey</td>\n",
              "      <td>Hockey</td>\n",
              "      <td>PINNIGER, Broome Eric</td>\n",
              "      <td>IND</td>\n",
              "      <td>Men</td>\n",
              "      <td>Hockey</td>\n",
              "      <td>Gold</td>\n",
              "    </tr>\n",
              "    <tr>\n",
              "      <th>6131</th>\n",
              "      <td>1932</td>\n",
              "      <td>Los Angeles</td>\n",
              "      <td>Hockey</td>\n",
              "      <td>Hockey</td>\n",
              "      <td>SINGH KULLAR, Gurmit</td>\n",
              "      <td>IND</td>\n",
              "      <td>Men</td>\n",
              "      <td>Hockey</td>\n",
              "      <td>Gold</td>\n",
              "    </tr>\n",
              "    <tr>\n",
              "      <th>6132</th>\n",
              "      <td>1932</td>\n",
              "      <td>Los Angeles</td>\n",
              "      <td>Hockey</td>\n",
              "      <td>Hockey</td>\n",
              "      <td>TAPSELL, Carlyle Carrol</td>\n",
              "      <td>IND</td>\n",
              "      <td>Men</td>\n",
              "      <td>Hockey</td>\n",
              "      <td>Gold</td>\n",
              "    </tr>\n",
              "    <tr>\n",
              "      <th>6962</th>\n",
              "      <td>1936</td>\n",
              "      <td>Berlin</td>\n",
              "      <td>Hockey</td>\n",
              "      <td>Hockey</td>\n",
              "      <td>ALLEN, Richard James</td>\n",
              "      <td>IND</td>\n",
              "      <td>Men</td>\n",
              "      <td>Hockey</td>\n",
              "      <td>Gold</td>\n",
              "    </tr>\n",
              "    <tr>\n",
              "      <th>6963</th>\n",
              "      <td>1936</td>\n",
              "      <td>Berlin</td>\n",
              "      <td>Hockey</td>\n",
              "      <td>Hockey</td>\n",
              "      <td>BAIS, Dhyan Chand</td>\n",
              "      <td>IND</td>\n",
              "      <td>Men</td>\n",
              "      <td>Hockey</td>\n",
              "      <td>Gold</td>\n",
              "    </tr>\n",
              "    <tr>\n",
              "      <th>...</th>\n",
              "      <td>...</td>\n",
              "      <td>...</td>\n",
              "      <td>...</td>\n",
              "      <td>...</td>\n",
              "      <td>...</td>\n",
              "      <td>...</td>\n",
              "      <td>...</td>\n",
              "      <td>...</td>\n",
              "      <td>...</td>\n",
              "    </tr>\n",
              "    <tr>\n",
              "      <th>13531</th>\n",
              "      <td>1972</td>\n",
              "      <td>Munich</td>\n",
              "      <td>Hockey</td>\n",
              "      <td>Hockey</td>\n",
              "      <td>SINGH, Mukhbain</td>\n",
              "      <td>IND</td>\n",
              "      <td>Men</td>\n",
              "      <td>Hockey</td>\n",
              "      <td>Bronze</td>\n",
              "    </tr>\n",
              "    <tr>\n",
              "      <th>13532</th>\n",
              "      <td>1972</td>\n",
              "      <td>Munich</td>\n",
              "      <td>Hockey</td>\n",
              "      <td>Hockey</td>\n",
              "      <td>SINGH, Virinder</td>\n",
              "      <td>IND</td>\n",
              "      <td>Men</td>\n",
              "      <td>Hockey</td>\n",
              "      <td>Bronze</td>\n",
              "    </tr>\n",
              "    <tr>\n",
              "      <th>16087</th>\n",
              "      <td>1980</td>\n",
              "      <td>Moscow</td>\n",
              "      <td>Hockey</td>\n",
              "      <td>Hockey</td>\n",
              "      <td>ALLAN, Schofield</td>\n",
              "      <td>IND</td>\n",
              "      <td>Men</td>\n",
              "      <td>Hockey</td>\n",
              "      <td>Gold</td>\n",
              "    </tr>\n",
              "    <tr>\n",
              "      <th>16088</th>\n",
              "      <td>1980</td>\n",
              "      <td>Moscow</td>\n",
              "      <td>Hockey</td>\n",
              "      <td>Hockey</td>\n",
              "      <td>AMARJIT RANA, Singh</td>\n",
              "      <td>IND</td>\n",
              "      <td>Men</td>\n",
              "      <td>Hockey</td>\n",
              "      <td>Gold</td>\n",
              "    </tr>\n",
              "    <tr>\n",
              "      <th>16089</th>\n",
              "      <td>1980</td>\n",
              "      <td>Moscow</td>\n",
              "      <td>Hockey</td>\n",
              "      <td>Hockey</td>\n",
              "      <td>BASKARAN, Baskaran</td>\n",
              "      <td>IND</td>\n",
              "      <td>Men</td>\n",
              "      <td>Hockey</td>\n",
              "      <td>Gold</td>\n",
              "    </tr>\n",
              "    <tr>\n",
              "      <th>16090</th>\n",
              "      <td>1980</td>\n",
              "      <td>Moscow</td>\n",
              "      <td>Hockey</td>\n",
              "      <td>Hockey</td>\n",
              "      <td>CHETTRI, Chettri</td>\n",
              "      <td>IND</td>\n",
              "      <td>Men</td>\n",
              "      <td>Hockey</td>\n",
              "      <td>Gold</td>\n",
              "    </tr>\n",
              "    <tr>\n",
              "      <th>16091</th>\n",
              "      <td>1980</td>\n",
              "      <td>Moscow</td>\n",
              "      <td>Hockey</td>\n",
              "      <td>Hockey</td>\n",
              "      <td>DEAVINDER, Singh</td>\n",
              "      <td>IND</td>\n",
              "      <td>Men</td>\n",
              "      <td>Hockey</td>\n",
              "      <td>Gold</td>\n",
              "    </tr>\n",
              "    <tr>\n",
              "      <th>16092</th>\n",
              "      <td>1980</td>\n",
              "      <td>Moscow</td>\n",
              "      <td>Hockey</td>\n",
              "      <td>Hockey</td>\n",
              "      <td>FERNANDES, Mervyn</td>\n",
              "      <td>IND</td>\n",
              "      <td>Men</td>\n",
              "      <td>Hockey</td>\n",
              "      <td>Gold</td>\n",
              "    </tr>\n",
              "    <tr>\n",
              "      <th>16093</th>\n",
              "      <td>1980</td>\n",
              "      <td>Moscow</td>\n",
              "      <td>Hockey</td>\n",
              "      <td>Hockey</td>\n",
              "      <td>GURMAIL, Singh</td>\n",
              "      <td>IND</td>\n",
              "      <td>Men</td>\n",
              "      <td>Hockey</td>\n",
              "      <td>Gold</td>\n",
              "    </tr>\n",
              "    <tr>\n",
              "      <th>16094</th>\n",
              "      <td>1980</td>\n",
              "      <td>Moscow</td>\n",
              "      <td>Hockey</td>\n",
              "      <td>Hockey</td>\n",
              "      <td>KAUSHIK, Maharaj Krishon</td>\n",
              "      <td>IND</td>\n",
              "      <td>Men</td>\n",
              "      <td>Hockey</td>\n",
              "      <td>Gold</td>\n",
              "    </tr>\n",
              "    <tr>\n",
              "      <th>16095</th>\n",
              "      <td>1980</td>\n",
              "      <td>Moscow</td>\n",
              "      <td>Hockey</td>\n",
              "      <td>Hockey</td>\n",
              "      <td>KUMAR, Charanjit</td>\n",
              "      <td>IND</td>\n",
              "      <td>Men</td>\n",
              "      <td>Hockey</td>\n",
              "      <td>Gold</td>\n",
              "    </tr>\n",
              "    <tr>\n",
              "      <th>16096</th>\n",
              "      <td>1980</td>\n",
              "      <td>Moscow</td>\n",
              "      <td>Hockey</td>\n",
              "      <td>Hockey</td>\n",
              "      <td>MANEYPANDA, Somaya</td>\n",
              "      <td>IND</td>\n",
              "      <td>Men</td>\n",
              "      <td>Hockey</td>\n",
              "      <td>Gold</td>\n",
              "    </tr>\n",
              "    <tr>\n",
              "      <th>16097</th>\n",
              "      <td>1980</td>\n",
              "      <td>Moscow</td>\n",
              "      <td>Hockey</td>\n",
              "      <td>Hockey</td>\n",
              "      <td>MOHAMMAD, Shahid</td>\n",
              "      <td>IND</td>\n",
              "      <td>Men</td>\n",
              "      <td>Hockey</td>\n",
              "      <td>Gold</td>\n",
              "    </tr>\n",
              "    <tr>\n",
              "      <th>16098</th>\n",
              "      <td>1980</td>\n",
              "      <td>Moscow</td>\n",
              "      <td>Hockey</td>\n",
              "      <td>Hockey</td>\n",
              "      <td>SINGH, Singh</td>\n",
              "      <td>IND</td>\n",
              "      <td>Men</td>\n",
              "      <td>Hockey</td>\n",
              "      <td>Gold</td>\n",
              "    </tr>\n",
              "    <tr>\n",
              "      <th>16099</th>\n",
              "      <td>1980</td>\n",
              "      <td>Moscow</td>\n",
              "      <td>Hockey</td>\n",
              "      <td>Hockey</td>\n",
              "      <td>SINGH, Singh</td>\n",
              "      <td>IND</td>\n",
              "      <td>Men</td>\n",
              "      <td>Hockey</td>\n",
              "      <td>Gold</td>\n",
              "    </tr>\n",
              "    <tr>\n",
              "      <th>16100</th>\n",
              "      <td>1980</td>\n",
              "      <td>Moscow</td>\n",
              "      <td>Hockey</td>\n",
              "      <td>Hockey</td>\n",
              "      <td>SURINDER, Singh</td>\n",
              "      <td>IND</td>\n",
              "      <td>Men</td>\n",
              "      <td>Hockey</td>\n",
              "      <td>Gold</td>\n",
              "    </tr>\n",
              "    <tr>\n",
              "      <th>16101</th>\n",
              "      <td>1980</td>\n",
              "      <td>Moscow</td>\n",
              "      <td>Hockey</td>\n",
              "      <td>Hockey</td>\n",
              "      <td>SYLVANUS, Dung Dung</td>\n",
              "      <td>IND</td>\n",
              "      <td>Men</td>\n",
              "      <td>Hockey</td>\n",
              "      <td>Gold</td>\n",
              "    </tr>\n",
              "    <tr>\n",
              "      <th>16102</th>\n",
              "      <td>1980</td>\n",
              "      <td>Moscow</td>\n",
              "      <td>Hockey</td>\n",
              "      <td>Hockey</td>\n",
              "      <td>ZAFAR, Zafar</td>\n",
              "      <td>IND</td>\n",
              "      <td>Men</td>\n",
              "      <td>Hockey</td>\n",
              "      <td>Gold</td>\n",
              "    </tr>\n",
              "    <tr>\n",
              "      <th>22981</th>\n",
              "      <td>1996</td>\n",
              "      <td>Atlanta</td>\n",
              "      <td>Tennis</td>\n",
              "      <td>Tennis</td>\n",
              "      <td>PAES, Leander</td>\n",
              "      <td>IND</td>\n",
              "      <td>Men</td>\n",
              "      <td>Singles</td>\n",
              "      <td>Bronze</td>\n",
              "    </tr>\n",
              "    <tr>\n",
              "      <th>25113</th>\n",
              "      <td>2000</td>\n",
              "      <td>Sydney</td>\n",
              "      <td>Weightlifting</td>\n",
              "      <td>Weightlifting</td>\n",
              "      <td>MALLESWARI, Karnam</td>\n",
              "      <td>IND</td>\n",
              "      <td>Women</td>\n",
              "      <td>69KG</td>\n",
              "      <td>Bronze</td>\n",
              "    </tr>\n",
              "    <tr>\n",
              "      <th>26870</th>\n",
              "      <td>2004</td>\n",
              "      <td>Athens</td>\n",
              "      <td>Shooting</td>\n",
              "      <td>Shooting</td>\n",
              "      <td>RATHORE, Rajyavardhan S.</td>\n",
              "      <td>IND</td>\n",
              "      <td>Men</td>\n",
              "      <td>Double Trap (150 Targets)</td>\n",
              "      <td>Silver</td>\n",
              "    </tr>\n",
              "    <tr>\n",
              "      <th>27922</th>\n",
              "      <td>2008</td>\n",
              "      <td>Beijing</td>\n",
              "      <td>Boxing</td>\n",
              "      <td>Boxing</td>\n",
              "      <td>KUMAR, Vijender</td>\n",
              "      <td>IND</td>\n",
              "      <td>Men</td>\n",
              "      <td>69 - 75 KG</td>\n",
              "      <td>Bronze</td>\n",
              "    </tr>\n",
              "    <tr>\n",
              "      <th>28856</th>\n",
              "      <td>2008</td>\n",
              "      <td>Beijing</td>\n",
              "      <td>Shooting</td>\n",
              "      <td>Shooting</td>\n",
              "      <td>BINDRA, Abhinav</td>\n",
              "      <td>IND</td>\n",
              "      <td>Men</td>\n",
              "      <td>10M Air Rifle (60 Shots)</td>\n",
              "      <td>Gold</td>\n",
              "    </tr>\n",
              "    <tr>\n",
              "      <th>29165</th>\n",
              "      <td>2008</td>\n",
              "      <td>Beijing</td>\n",
              "      <td>Wrestling</td>\n",
              "      <td>Wrestling Free.</td>\n",
              "      <td>KUMAR, Sushil</td>\n",
              "      <td>IND</td>\n",
              "      <td>Men</td>\n",
              "      <td>60 - 66KG</td>\n",
              "      <td>Bronze</td>\n",
              "    </tr>\n",
              "    <tr>\n",
              "      <th>29795</th>\n",
              "      <td>2012</td>\n",
              "      <td>London</td>\n",
              "      <td>Badminton</td>\n",
              "      <td>Badminton</td>\n",
              "      <td>NEHWAL, Saina</td>\n",
              "      <td>IND</td>\n",
              "      <td>Women</td>\n",
              "      <td>Singles</td>\n",
              "      <td>Bronze</td>\n",
              "    </tr>\n",
              "    <tr>\n",
              "      <th>29879</th>\n",
              "      <td>2012</td>\n",
              "      <td>London</td>\n",
              "      <td>Boxing</td>\n",
              "      <td>Boxing</td>\n",
              "      <td>KOM, Mary</td>\n",
              "      <td>IND</td>\n",
              "      <td>Women</td>\n",
              "      <td>51 KG</td>\n",
              "      <td>Bronze</td>\n",
              "    </tr>\n",
              "    <tr>\n",
              "      <th>30841</th>\n",
              "      <td>2012</td>\n",
              "      <td>London</td>\n",
              "      <td>Shooting</td>\n",
              "      <td>Shooting</td>\n",
              "      <td>NARANG, Gagan</td>\n",
              "      <td>IND</td>\n",
              "      <td>Men</td>\n",
              "      <td>10M Air Rifle</td>\n",
              "      <td>Bronze</td>\n",
              "    </tr>\n",
              "    <tr>\n",
              "      <th>30849</th>\n",
              "      <td>2012</td>\n",
              "      <td>London</td>\n",
              "      <td>Shooting</td>\n",
              "      <td>Shooting</td>\n",
              "      <td>KUMAR, Vijay</td>\n",
              "      <td>IND</td>\n",
              "      <td>Men</td>\n",
              "      <td>25M Rapid Pistol</td>\n",
              "      <td>Silver</td>\n",
              "    </tr>\n",
              "    <tr>\n",
              "      <th>31111</th>\n",
              "      <td>2012</td>\n",
              "      <td>London</td>\n",
              "      <td>Wrestling</td>\n",
              "      <td>Wrestling Freestyle</td>\n",
              "      <td>DUTT, Yogeshwar</td>\n",
              "      <td>IND</td>\n",
              "      <td>Men</td>\n",
              "      <td>Wf 60 KG</td>\n",
              "      <td>Bronze</td>\n",
              "    </tr>\n",
              "    <tr>\n",
              "      <th>31118</th>\n",
              "      <td>2012</td>\n",
              "      <td>London</td>\n",
              "      <td>Wrestling</td>\n",
              "      <td>Wrestling Freestyle</td>\n",
              "      <td>KUMAR, Sushil</td>\n",
              "      <td>IND</td>\n",
              "      <td>Men</td>\n",
              "      <td>Wf 66 KG</td>\n",
              "      <td>Silver</td>\n",
              "    </tr>\n",
              "  </tbody>\n",
              "</table>\n",
              "<p>184 rows × 9 columns</p>\n",
              "</div>"
            ]
          },
          "metadata": {},
          "execution_count": 33
        }
      ]
    },
    {
      "cell_type": "markdown",
      "metadata": {
        "id": "yHz5QTg8HoYA"
      },
      "source": [
        "### 7. Which event is most popular in terms on number of players? (Top 5)"
      ]
    },
    {
      "cell_type": "code",
      "metadata": {
        "id": "Oeou1JSdwWf9",
        "outputId": "726e86c1-cad2-4cec-e56d-e6344c08e22f",
        "colab": {
          "base_uri": "https://localhost:8080/",
          "height": 204
        }
      },
      "source": [
        "event=[]\n",
        "for event_pl in dataset['Event'].unique():\n",
        "    event.append([event_pl ,len(dataset[dataset['Event']==event_pl])])\n",
        "\n",
        "event=pd.DataFrame(event,columns=['Sport','freq'])\n",
        "event=event.sort_values(by='freq',ascending=False).head()\n",
        "event"
      ],
      "execution_count": 55,
      "outputs": [
        {
          "output_type": "execute_result",
          "data": {
            "text/plain": [
              "                Sport  freq\n",
              "80           Football  1497\n",
              "176            Hockey  1422\n",
              "138  Team Competition  1147\n",
              "327        Basketball  1012\n",
              "337          Handball   973"
            ],
            "text/html": [
              "<div>\n",
              "<style scoped>\n",
              "    .dataframe tbody tr th:only-of-type {\n",
              "        vertical-align: middle;\n",
              "    }\n",
              "\n",
              "    .dataframe tbody tr th {\n",
              "        vertical-align: top;\n",
              "    }\n",
              "\n",
              "    .dataframe thead th {\n",
              "        text-align: right;\n",
              "    }\n",
              "</style>\n",
              "<table border=\"1\" class=\"dataframe\">\n",
              "  <thead>\n",
              "    <tr style=\"text-align: right;\">\n",
              "      <th></th>\n",
              "      <th>Sport</th>\n",
              "      <th>freq</th>\n",
              "    </tr>\n",
              "  </thead>\n",
              "  <tbody>\n",
              "    <tr>\n",
              "      <th>80</th>\n",
              "      <td>Football</td>\n",
              "      <td>1497</td>\n",
              "    </tr>\n",
              "    <tr>\n",
              "      <th>176</th>\n",
              "      <td>Hockey</td>\n",
              "      <td>1422</td>\n",
              "    </tr>\n",
              "    <tr>\n",
              "      <th>138</th>\n",
              "      <td>Team Competition</td>\n",
              "      <td>1147</td>\n",
              "    </tr>\n",
              "    <tr>\n",
              "      <th>327</th>\n",
              "      <td>Basketball</td>\n",
              "      <td>1012</td>\n",
              "    </tr>\n",
              "    <tr>\n",
              "      <th>337</th>\n",
              "      <td>Handball</td>\n",
              "      <td>973</td>\n",
              "    </tr>\n",
              "  </tbody>\n",
              "</table>\n",
              "</div>"
            ]
          },
          "metadata": {},
          "execution_count": 55
        }
      ]
    },
    {
      "cell_type": "code",
      "metadata": {
        "id": "TNz5MHRbAymZ",
        "outputId": "49d36ea1-862b-4946-b243-a3fe0d91fab0",
        "colab": {
          "base_uri": "https://localhost:8080/",
          "height": 437
        }
      },
      "source": [
        "event.plot(x='Sport',y=\"freq\",kind='bar',figsize=(10,5))"
      ],
      "execution_count": 57,
      "outputs": [
        {
          "output_type": "execute_result",
          "data": {
            "text/plain": [
              "<matplotlib.axes._subplots.AxesSubplot at 0x7f3fb47f6b10>"
            ]
          },
          "metadata": {},
          "execution_count": 57
        },
        {
          "output_type": "display_data",
          "data": {
            "image/png": "[encoded data removed]",
            "text/plain": [
              "<Figure size 720x360 with 1 Axes>"
            ]
          },
          "metadata": {
            "needs_background": "light"
          }
        }
      ]
    },
    {
      "cell_type": "markdown",
      "metadata": {
        "id": "2x988EJ6HoYA"
      },
      "source": [
        "### 8. Which sport is having most female Gold Medalists? (Top 5)"
      ]
    },
    {
      "cell_type": "markdown",
      "metadata": {
        "id": "BQYTEnKCGa6N"
      },
      "source": [
        "Ans:-  Aquatics Sport "
      ]
    },
    {
      "cell_type": "code",
      "metadata": {
        "id": "yynIibWEHoYA"
      },
      "source": [
        "female= goldmedal[goldmedal.Gender==\"Women\"]"
      ],
      "execution_count": null,
      "outputs": []
    },
    {
      "cell_type": "code",
      "metadata": {
        "colab": {
          "base_uri": "https://localhost:8080/"
        },
        "id": "zdtGgv9YFgaO",
        "outputId": "c2c54525-7f4a-4d28-9164-17bf8a82c135"
      },
      "source": [
        "sport_gold= female.Sport.value_counts().head(10)\n",
        "sport_gold"
      ],
      "execution_count": null,
      "outputs": [
        {
          "output_type": "execute_result",
          "data": {
            "text/plain": [
              "Aquatics      589\n",
              "Athletics     389\n",
              "Gymnastics    268\n",
              "Rowing        217\n",
              "Volleyball    166\n",
              "Hockey        144\n",
              "Handball      142\n",
              "Basketball    120\n",
              "Fencing       108\n",
              "Football       86\n",
              "Name: Sport, dtype: int64"
            ]
          },
          "metadata": {},
          "execution_count": 121
        }
      ]
    },
    {
      "cell_type": "code",
      "metadata": {
        "colab": {
          "base_uri": "https://localhost:8080/",
          "height": 401
        },
        "id": "DMSeEXTuGDKM",
        "outputId": "0f598c4a-ae4c-48f1-a545-3896beb6e273"
      },
      "source": [
        "\n",
        "plt.title(\"Female have won the most gold medal in sport \")\n",
        "sport_gold.plot.bar(figsize=(10,5))\n"
      ],
      "execution_count": null,
      "outputs": [
        {
          "output_type": "execute_result",
          "data": {
            "text/plain": [
              "<matplotlib.axes._subplots.AxesSubplot at 0x7f5ce4101ad0>"
            ]
          },
          "metadata": {},
          "execution_count": 122
        },
        {
          "output_type": "display_data",
          "data": {
            "image/png": "[encoded data removed]",
            "text/plain": [
              "<Figure size 720x360 with 1 Axes>"
            ]
          },
          "metadata": {
            "needs_background": "light"
          }
        }
      ]
    },
    {
      "cell_type": "code",
      "metadata": {
        "id": "qBuKhL4nH04B"
      },
      "source": [
        ""
      ],
      "execution_count": null,
      "outputs": []
    }
  ]
}